{
  "nbformat": 4,
  "nbformat_minor": 0,
  "metadata": {
    "colab": {
      "name": "Copy of LOAS_CSV.ipynb",
      "provenance": [],
      "authorship_tag": "ABX9TyNbFZDIWvpelAGGroQfFVPn",
      "include_colab_link": true
    },
    "kernelspec": {
      "name": "python3",
      "display_name": "Python 3"
    }
  },
  "cells": [
    {
      "cell_type": "markdown",
      "metadata": {
        "id": "view-in-github",
        "colab_type": "text"
      },
      "source": [
        "<a href=\"https://colab.research.google.com/github/janardhanaHub/ML_Learning/blob/master/Copy_of_LOAS_CSV.ipynb\" target=\"_parent\"><img src=\"https://colab.research.google.com/assets/colab-badge.svg\" alt=\"Open In Colab\"/></a>"
      ]
    },
    {
      "cell_type": "code",
      "metadata": {
        "id": "lAp4Upxkt55p",
        "colab_type": "code",
        "colab": {}
      },
      "source": [
        "!pip install -U -q PyDrive\n",
        "from pydrive.auth import GoogleAuth\n",
        "from pydrive.drive import GoogleDrive\n",
        "from google.colab import auth\n",
        "from oauth2client.client import GoogleCredentials"
      ],
      "execution_count": 0,
      "outputs": []
    },
    {
      "cell_type": "code",
      "metadata": {
        "id": "Q0ktpWDOwEEG",
        "colab_type": "code",
        "outputId": "59170976-be75-4654-a52a-be7590e18f9f",
        "colab": {
          "base_uri": "https://localhost:8080/",
          "height": 34
        }
      },
      "source": [
        "fluff, id = link.split('=')\n",
        "print (id) # Verify that you have everything after '='"
      ],
      "execution_count": 0,
      "outputs": [
        {
          "output_type": "stream",
          "text": [
            "1qACconeSje48_kUCBcEN6i8LLQ6Gx8tg\n"
          ],
          "name": "stdout"
        }
      ]
    },
    {
      "cell_type": "code",
      "metadata": {
        "id": "wraH5-3VuEtq",
        "colab_type": "code",
        "colab": {}
      },
      "source": [
        "auth.authenticate_user()\n",
        "gauth = GoogleAuth()\n",
        "gauth.credentials = GoogleCredentials.get_application_default()\n",
        "drive = GoogleDrive(gauth)"
      ],
      "execution_count": 0,
      "outputs": []
    },
    {
      "cell_type": "code",
      "metadata": {
        "id": "hRCgVbbRwQdE",
        "colab_type": "code",
        "outputId": "4e5294d9-ffc3-4312-e923-9682b1e6ad7b",
        "colab": {
          "base_uri": "https://localhost:8080/",
          "height": 34
        }
      },
      "source": [
        "fluff, id = link.split('=')\n",
        "print (id) # Verify that you have everything after '='"
      ],
      "execution_count": 0,
      "outputs": [
        {
          "output_type": "stream",
          "text": [
            "1qACconeSje48_kUCBcEN6i8LLQ6Gx8tg\n"
          ],
          "name": "stdout"
        }
      ]
    },
    {
      "cell_type": "code",
      "metadata": {
        "id": "wblc1mOdukbh",
        "colab_type": "code",
        "colab": {}
      },
      "source": [
        "link = 'https://drive.google.com/open?id=1qACconeSje48_kUCBcEN6i8LLQ6Gx8tg' # The shareable link"
      ],
      "execution_count": 0,
      "outputs": []
    },
    {
      "cell_type": "code",
      "metadata": {
        "id": "RTxJmppmu0dz",
        "colab_type": "code",
        "outputId": "f5886461-a6a2-463a-81a9-368283066711",
        "colab": {
          "base_uri": "https://localhost:8080/",
          "height": 260
        }
      },
      "source": [
        "import pandas as pd\n",
        "downloaded = drive.CreateFile({'id':id}) \n",
        "downloaded.GetContentFile('Chennai_Zomato_Data_updated.csv')  \n",
        "df3 = pd.read_csv('Chennai_Zomato_Data_updated.csv')\n",
        "print(df3)"
      ],
      "execution_count": 0,
      "outputs": [
        {
          "output_type": "stream",
          "text": [
            "      Unnamed: 0  ... No of Votes\n",
            "0              0  ...     invalid\n",
            "1              1  ...       10997\n",
            "2              2  ...         698\n",
            "3              3  ...        2625\n",
            "4              4  ...        8737\n",
            "...          ...  ...         ...\n",
            "8500        8500  ...     invalid\n",
            "8501        8501  ...     invalid\n",
            "8502        8502  ...     invalid\n",
            "8503        8503  ...     invalid\n",
            "8504        8504  ...     invalid\n",
            "\n",
            "[8505 rows x 10 columns]\n"
          ],
          "name": "stdout"
        }
      ]
    }
  ]
}